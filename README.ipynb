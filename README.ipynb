{
 "cells": [
  {
   "cell_type": "markdown",
   "metadata": {},
   "source": [
    "GP-SLAM\n",
    "===================================================\n",
    "GP-SLAM is a library implenmenting sparse Gaussian process (GP) regression for continuous-time trajectory estimation and mapping. The core library is developed by C++ language, and an optional Matlab toolbox is also provided. Examples are provided in Matlab scripts.\n",
    "\n",
    "GP-SLAM is being developed by [Jing Dong](mailto:thu.dongjing@gmail.com) and [Xinyan Yan](mailto:voidpointeryan@gmail.com) as part of their work at Georgia Tech Robot Learning Lab. \n",
    "\n",
    "Prerequisites\n",
    "------\n",
    "\n",
    "- CMake >= 2.6 (Ubuntu: `sudo apt-get install cmake`), compilation configuration tool.\n",
    "- [Boost](http://www.boost.org/) >= 1.46 (Ubuntu: `sudo apt-get install libboost-all-dev`), portable C++ source libraries.\n",
    "- [GTSAM](https://bitbucket.org/gtborg/gtsam) >= 4.0 alpha, a C++ library that implement smoothing and mapping (SAM) in robotics and vision.\n",
    "\n",
    "Compilation & Installation\n",
    "------\n",
    "\n",
    "In the library folder excute:"
   ]
  },
  {
   "cell_type": "code",
   "execution_count": null,
   "metadata": {},
   "outputs": [],
   "source": [
    "$ mkdir build\n",
    "$ cd build\n",
    "$ cmake ..\n",
    "$ make check  # optonal, run unit tests\n",
    "$ make install"
   ]
  },
  {
   "cell_type": "markdown",
   "metadata": {},
   "source": [
    "Matlab Toolbox\n",
    "-----\n",
    "\n",
    "An optional Matlab toolbox is provided to use our library in Matlab. To enable Matlab toolbox during compilation:"
   ]
  },
  {
   "cell_type": "code",
   "execution_count": null,
   "metadata": {},
   "outputs": [],
   "source": [
    "$ cmake -DGPSLAM_BUILD_MATLAB_TOOLBOX:OPTION=ON -DGTSAM_TOOLBOX_INSTALL_PATH:PATH=/path/install/toolbox ..\n",
    "$ make install"
   ]
  },
  {
   "cell_type": "markdown",
   "metadata": {},
   "source": [
    "After you install the Matlab toolbox, don't forget to add your `/path/install/toolbox` to your Matlab path.\n",
    "\n",
    "Compatibility\n",
    "-----\n",
    "\n",
    "The GP-SLAM library is designed to be cross-platform, but it has been only tested on Ubuntu Linux for now.\n",
    "\n",
    "Tested Compilers: \n",
    "\n",
    "- GCC 4.8, 5.4\n",
    "\n",
    "Tested Boost version: 1.48-1.61\n",
    "\n",
    "Linking to External Projects\n",
    "-----\n",
    "\n",
    "We provide easy linking to external **CMake** projects. Add following lines to your CMakeLists.txt"
   ]
  },
  {
   "cell_type": "code",
   "execution_count": null,
   "metadata": {},
   "outputs": [],
   "source": [
    "find_package(gpslam REQUIRED)\n",
    "include_directories(${gpslam_INCLUDE_DIR})"
   ]
  },
  {
   "cell_type": "markdown",
   "metadata": {},
   "source": [
    "Questions & Bug reporting\n",
    "-----\n",
    "\n",
    "Please use Github issue tracker to report bugs. For other questions please contact [Jing Dong](mailto:thu.dongjing@gmail.com).\n",
    "\n",
    "\n",
    "Citing\n",
    "-----\n",
    "\n",
    "If you use GP-SLAM in an academic context, please cite following publications:"
   ]
  },
  {
   "cell_type": "code",
   "execution_count": null,
   "metadata": {},
   "outputs": [],
   "source": [
    "@inproceedings{Yan17ras,  \n",
    "  Author = \"Xinyan Yan and Vadim Indelman and Byron Boots\",\n",
    "  journal = \" Robotics and Autonomous Systems\",\n",
    "  Title = \"Incremental Sparse {GP} Regression for Continuous-time Trajectory Estimation and Mapping\",\n",
    "  Year = {2017},\n",
    "  pages=\"120-132\",\n",
    "  volume = {87}\n",
    "}\n",
    "@article{Dong17arxiv,\n",
    "  author    = {Jing Dong and Byron Boots and Frank Dellaert},\n",
    "  title     = {Sparse Gaussian Processes for Continuous-Time Trajectory Estimation on Matrix Lie Groups},\n",
    "  journal   = {Arxiv},\n",
    "  volume    = {abs/1705.06020},\n",
    "  year      = {2017},\n",
    "  url       = {http://arxiv.org/abs/1705.06020}\n",
    "}"
   ]
  },
  {
   "cell_type": "markdown",
   "metadata": {},
   "source": [
    "License\n",
    "-----\n",
    "\n",
    "GP-SLAM is released under the BSD license, reproduced in the file LICENSE in this directory."
   ]
  }
 ],

 "metadata": {
  "kernelspec": {
   "display_name": "Bash",
   "language": "bash",
   "name": "bash"
  },
  "language_info": {
   "codemirror_mode": "shell",
   "file_extension": ".sh",
   "mimetype": "text/x-sh",
   "name": "bash"
  }
 },
 "nbformat": 4,
 "nbformat_minor": 2
}
